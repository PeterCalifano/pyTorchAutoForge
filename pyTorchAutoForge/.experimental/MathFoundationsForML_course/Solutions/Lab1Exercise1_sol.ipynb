{
 "cells": [
  {
   "attachments": {},
   "cell_type": "markdown",
   "metadata": {},
   "source": [
    "# Exercise: Principal component analysis\n",
    "\n",
    "In this exercise we will implement some methods to identify patterns in data. \n",
    "\n",
    "Author: Stefano Pagani <stefano.pagani@polimi.it>.\n",
    "\n",
    "Date: 2024\n",
    "\n",
    "Course: Mathematical and numerical foundations of scientific machine learning\n",
    "\n",
    "For further details on PCA, see Chapter 1, Brunton, S. L. and Kutz, J. N., Data-Driven Science and Engineering: Machine Learning, Dynamical Systems, and Control (2nd ed.).\n"
   ]
  },
  {
   "cell_type": "code",
   "execution_count": null,
   "metadata": {},
   "outputs": [],
   "source": [
    "# imports\n",
    "\n",
    "import numpy as np\n",
    "import scipy.io\n",
    "\n",
    "import matplotlib.pyplot as plt\n"
   ]
  },
  {
   "cell_type": "code",
   "execution_count": null,
   "metadata": {},
   "outputs": [],
   "source": [
    "# Dataset creation\n",
    "\n",
    "np.random.seed(42)\n",
    "\n",
    "signals = np.zeros((200,800))\n",
    "\n",
    "delta_t = 1.0/800.0\n",
    "Nt      = 800\n",
    "\n",
    "t =  np.linspace(0.0, Nt*delta_t, Nt, endpoint=False)\n",
    "\n",
    "# number of samples\n",
    "N = 200\n",
    "\n",
    "# shift coef\n",
    "shiftcoef = 0.05\n",
    "\n",
    "\n",
    "for k in range(N):\n",
    "    #plt.plot(t,(t-0)*(1-t)*( np.sin(2*np.pi*t+np.random.rand(1)) + 0.1*np.sin(2*np.pi*t*10**(np.random.rand(1))) ) )\n",
    "    if (np.mod(k,4)==0):\n",
    "        signals[k,:] = -np.exp( - ((t-0.4-shiftcoef*np.random.rand(1))**2)/(2*(0.001+0.005*np.random.rand(1)))  )\n",
    "    else:\n",
    "        signals[k,:] = -np.exp( - ((t-0.4-shiftcoef*np.random.rand(1))**2)/(2*(0.001+0.005*np.random.rand(1)))  ) + np.exp( - ((t-0.4-shiftcoef*np.random.rand(1))**2)/(2*(0.001+0.005*np.random.rand(1)))  )\n",
    "        \n",
    "    plt.plot(t,signals[k,:])\n",
    "plt.show()\n"
   ]
  },
  {
   "attachments": {},
   "cell_type": "markdown",
   "metadata": {},
   "source": [
    "\n",
    "Task 1: plot some signals from the given datasets. What can you observed?"
   ]
  },
  {
   "attachments": {},
   "cell_type": "markdown",
   "metadata": {},
   "source": [
    "\n",
    "Task 2: construct a truncated PCA expansion of your dataset based on 10 components. \n",
    "\n",
    "See the online documentation of the function."
   ]
  },
  {
   "cell_type": "code",
   "execution_count": null,
   "metadata": {},
   "outputs": [],
   "source": [
    "from sklearn.decomposition import PCA\n",
    "\n",
    "pca = PCA(n_components=10)\n",
    "\n",
    "print(np.shape(signals))\n",
    "pca.fit(signals)\n"
   ]
  },
  {
   "attachments": {},
   "cell_type": "markdown",
   "metadata": {},
   "source": [
    "\n",
    "Task 3: extract the mean and the first three basis functions and plot them. \n",
    "\n",
    "What can you observe?"
   ]
  },
  {
   "cell_type": "code",
   "execution_count": null,
   "metadata": {},
   "outputs": [],
   "source": [
    "# mean\n",
    "mean_f = pca.mean_\n",
    "# first basis function\n",
    "u_0 = pca.components_[0]\n",
    "# second basis function\n",
    "u_1 = pca.components_[1]\n",
    "# third basis function\n",
    "u_2 = pca.components_[2]\n",
    "\n",
    "plt.plot(u_2)\n"
   ]
  },
  {
   "attachments": {},
   "cell_type": "markdown",
   "metadata": {},
   "source": [
    "\n",
    "Task 4: plot the cumulative sum of the explained variance ratio (how much variability is capture by the first n components)"
   ]
  },
  {
   "cell_type": "code",
   "execution_count": null,
   "metadata": {},
   "outputs": [],
   "source": [
    "\n",
    "plt.plot(np.cumsum(pca.explained_variance_ratio_),marker='*')\n",
    "plt.show(block=False)\n",
    "#plt.pause(0.1)\n",
    "#sum(pca.explained_variance_ratio_)\n",
    "print(pca.explained_variance_ratio_[0:3])\n"
   ]
  },
  {
   "attachments": {},
   "cell_type": "markdown",
   "metadata": {},
   "source": [
    "\n",
    "Task 5: compute the coefficients of the expansion associated with the first three basis functions. "
   ]
  },
  {
   "cell_type": "code",
   "execution_count": null,
   "metadata": {},
   "outputs": [],
   "source": [
    "# inner product\n",
    "coefficient_0 = ((signals-mean_f) @ u_0)\n",
    "coefficient_1 = ((signals-mean_f) @ u_1)\n",
    "coefficient_2 = ((signals-mean_f) @ u_2) "
   ]
  },
  {
   "attachments": {},
   "cell_type": "markdown",
   "metadata": {},
   "source": [
    "\n",
    "Scatter plot of the components. are the coefficients clearly separated?"
   ]
  },
  {
   "cell_type": "code",
   "execution_count": null,
   "metadata": {},
   "outputs": [],
   "source": [
    "\n",
    "# \n",
    "col_vec = np.int32( np.mod(np.arange(0,200,1),4) ==0 )\n",
    "plt.scatter(coefficient_0,coefficient_1,c=col_vec)\n"
   ]
  },
  {
   "attachments": {},
   "cell_type": "markdown",
   "metadata": {},
   "source": [
    "\n",
    "Task 6: compare the plot of the actual signals with the reconstructed ones."
   ]
  },
  {
   "cell_type": "code",
   "execution_count": null,
   "metadata": {},
   "outputs": [],
   "source": [
    "ind_sel = 0\n",
    "plt.plot(signals[ind_sel,:])\n",
    "rec_signal = mean_f+ coefficient_0[ind_sel]*u_0 + coefficient_1[ind_sel]*u_1 + + coefficient_2[ind_sel]*u_2\n",
    "plt.plot(rec_signal)"
   ]
  },
  {
   "attachments": {},
   "cell_type": "markdown",
   "metadata": {},
   "source": [
    "\n",
    "Task 7: study the effect of variable shift coefficients on the reconstruction. What can you observe?\n",
    "\n",
    "Task 8: study the effect noise on the reconstruction. What can you observe?"
   ]
  }
 ],
 "metadata": {
  "kernelspec": {
   "display_name": "teachenv",
   "language": "python",
   "name": "python3"
  },
  "language_info": {
   "codemirror_mode": {
    "name": "ipython",
    "version": 3
   },
   "file_extension": ".py",
   "mimetype": "text/x-python",
   "name": "python",
   "nbconvert_exporter": "python",
   "pygments_lexer": "ipython3",
   "version": "3.10.12"
  },
  "orig_nbformat": 4,
  "vscode": {
   "interpreter": {
    "hash": "f6722423130b3de4ac6cd591b5a36c694e3fb4e04cc9b6ce79cd9c499b34682e"
   }
  }
 },
 "nbformat": 4,
 "nbformat_minor": 2
}
