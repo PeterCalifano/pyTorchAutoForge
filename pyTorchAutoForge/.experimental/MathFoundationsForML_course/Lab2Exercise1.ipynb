{
 "cells": [
  {
   "attachments": {},
   "cell_type": "markdown",
   "metadata": {},
   "source": [
    "# Exercises: compressed sensing\n",
    "\n",
    "In this exercise we will employ compressed sensing for the reconstruction of a high-dimensional signal from a sparse set of random measurements. \n",
    "\n",
    "Author: Stefano Pagani <stefano.pagani@polimi.it>.\n",
    "\n",
    "Date: 2024\n",
    "\n",
    "Course: Mathematical and numerical foundations of scientific machine learning.\n",
    "\n",
    "Example adapted from:\n",
    "[1] Brunton, S. L., & Kutz, J. N. (2022).\n",
    "Data-driven science and engineering: Machine learning,\n",
    "dynamical systems, and control. Cambridge University Press.\n"
   ]
  },
  {
   "attachments": {},
   "cell_type": "markdown",
   "metadata": {},
   "source": [
    "\n",
    "The goal of this exercise is to adopt compressed sensing for the reconstruction of a high-dimensional signal from a sparse set of random measurements.\n",
    "\n",
    "Let us consider a signal composed of a two-tone audio signal:\n",
    "\n",
    "$x(t) = cos(2 \\pi  97t) + cos(2 \\pi 777t).$\n",
    "\n",
    "Note that this signal is sparse in the frequency domain: it is defined by a sum of exactly two cosine waves.\n",
    "\n",
    "In this exercise, the full signal is generated from $t = 0$ to $t = 1$ with a resolution of $`n = 4096`$ and is then randomly sampled at $`p = 128`$ locations in time.\n",
    "The sparse vector of coefficients in the discrete cosine transform (DCT) basis might be obtained by solving the $`\\ell = 1`$-norm minimization problem using `CVXPY` implementation."
   ]
  },
  {
   "cell_type": "code",
   "execution_count": null,
   "metadata": {},
   "outputs": [],
   "source": [
    "\n",
    "# imports\n",
    "import numpy as np\n",
    "import matplotlib.pyplot as plt\n",
    "import os\n",
    "import sys\n",
    "from scipy.fftpack import dct, idct\n",
    "from scipy.optimize import minimize\n",
    "import cvxpy as cvx"
   ]
  },
  {
   "attachments": {},
   "cell_type": "markdown",
   "metadata": {},
   "source": [
    "\n",
    "Task 1: construct the ground truth vector $\\mathbf{u}$ made of 4096 samples of \n",
    "$u(t) = cos(2 \\pi  97t) + cos(2 \\pi 777t)$"
   ]
  },
  {
   "cell_type": "code",
   "execution_count": null,
   "metadata": {},
   "outputs": [],
   "source": [
    "\n",
    "## Reference signals\n",
    "n = 4096 # points in high resolution signal\n",
    "t = np.linspace(0,1,n)\n",
    "u = 0 # TO DO\n",
    "\n",
    "# admit a sparse representation \n",
    "xt = np.fft.fft(u) # Fourier transformed signal\n",
    "PSD = xt * np.conj(xt) / n # Power spectral density\n"
   ]
  },
  {
   "attachments": {},
   "cell_type": "markdown",
   "metadata": {},
   "source": [
    "\n",
    "Task 2: construct a measurement matrix C that randomly sample $\\mathbf{u}$ in $128$ points."
   ]
  },
  {
   "cell_type": "code",
   "execution_count": null,
   "metadata": {},
   "outputs": [],
   "source": [
    "\n",
    "\n",
    "## Randomly sample signal\n",
    "p = 128\n",
    "\n",
    "y = 0  # C * x\n",
    "# C is a matrix of 128 rows of booleans (randomly selected) --> Measurement matrix \n",
    "\n"
   ]
  },
  {
   "attachments": {},
   "cell_type": "markdown",
   "metadata": {},
   "source": [
    "\n",
    "Task 3: write a transformation matrix $\\Psi$ made of the discrete cosine transform (DCT) basis, and the matrix $\\theta = C \\Psi$."
   ]
  },
  {
   "cell_type": "code",
   "execution_count": null,
   "metadata": {},
   "outputs": [],
   "source": [
    "\n",
    "# The DCT is one specific basis function (set of cosines at different frequencies)\n",
    "# Psi matrix is the \"library\", i.e. the set of regressors of the problem\n",
    "# Note: it must contain the relevant functions to represent the dataset, \n",
    "# That is: the relevant modes of the system generating the dataset.\n",
    "Psi =  0 # Build Psi (using dct())\n",
    "Theta =  0  # C * Psi\n",
    "\n"
   ]
  },
  {
   "attachments": {},
   "cell_type": "markdown",
   "metadata": {},
   "source": [
    "\n",
    "Task 4: solve the minimization problem using the CVXPY library"
   ]
  },
  {
   "cell_type": "code",
   "execution_count": null,
   "metadata": {},
   "outputs": [],
   "source": [
    "\n",
    "# solving with CVX\n",
    "\n",
    "# Create vector variables (CVXPY Variable)\n",
    "s_c = cvx.Variable(shape=np.shape(u))\n",
    "# Create the constraints (Python list)\n",
    "#constraints = \n",
    "# Form objective\n",
    "#obj = \n",
    "# Form and solve problem\n",
    "#prob = \n",
    "prob.solve()  # Returns the optimal value.\n",
    "print(\"status:\", prob.status)\n",
    "print(\"optimal value\", prob.value)\n",
    "print(\"optimal var\", s_c.value)\n",
    "\n",
    "# Solve for the estimated (reconstructed) signal. Good practice: apply threshold on numerical zeros.\n",
    "urecon = idct(s_c.value)\n",
    "\n"
   ]
  },
  {
   "cell_type": "code",
   "execution_count": null,
   "metadata": {},
   "outputs": [],
   "source": [
    "## Visualization\n",
    "time_window = np.array([1024,1280])/4096\n",
    "freq = np.arange(n)\n",
    "L = int(np.floor(n/2))\n",
    "\n",
    "fig,axs = plt.subplots(2,2)\n",
    "axs = axs.reshape(-1)\n",
    "\n",
    "axs[1].plot(freq[:L],PSD[:L],color='k',linewidth=2)\n",
    "axs[1].set_xlim(0, 1024)\n",
    "axs[1].set_ylim(0, 1200)\n",
    "axs[1].set_title('Frequencies')\n",
    "\n",
    "axs[0].plot(t,u,color='k',linewidth=2)\n",
    "axs[0].plot(perm/n,y,color='r',marker='x',linewidth=0,ms=12,mew=4)\n",
    "axs[0].set_xlim(time_window[0],time_window[1])\n",
    "axs[0].set_ylim(-2, 2)\n",
    "axs[0].set_title('Signal')\n",
    "\n",
    "axs[2].plot(t,urecon,color='r',linewidth=2)\n",
    "axs[2].set_xlim(time_window[0],time_window[1])\n",
    "axs[2].set_ylim(-2, 2)\n",
    "axs[2].set_title('Reconstruction')\n",
    "\n",
    "xtrecon = np.fft.fft(urecon,n) # computes the (fast) discrete fourier transform\n",
    "PSDrecon = xtrecon * np.conj(xtrecon)/n # Power spectrum (how much power in each freq)\n",
    "\n",
    "axs[3].plot(freq[:L],PSDrecon[:L],color='r',linewidth=2)\n",
    "axs[3].set_xlim(0, 1024)\n",
    "axs[3].set_ylim(0, 1200)\n",
    "axs[3].set_title('Reconstructed frequencies')\n",
    "\n",
    "plt.show()\n"
   ]
  }
 ],
 "metadata": {
  "kernelspec": {
   "display_name": "teachenv",
   "language": "python",
   "name": "python3"
  },
  "language_info": {
   "codemirror_mode": {
    "name": "ipython",
    "version": 3
   },
   "file_extension": ".py",
   "mimetype": "text/x-python",
   "name": "python",
   "nbconvert_exporter": "python",
   "pygments_lexer": "ipython3",
   "version": "3.10.12"
  },
  "orig_nbformat": 4
 },
 "nbformat": 4,
 "nbformat_minor": 2
}
