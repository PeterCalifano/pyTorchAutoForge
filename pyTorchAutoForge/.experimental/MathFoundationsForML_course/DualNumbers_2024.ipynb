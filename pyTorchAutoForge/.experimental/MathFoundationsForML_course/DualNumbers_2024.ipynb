{
  "nbformat": 4,
  "nbformat_minor": 0,
  "metadata": {
    "colab": {
      "provenance": []
    },
    "kernelspec": {
      "name": "python3",
      "display_name": "Python 3"
    }
  },
  "cells": [
    {
      "cell_type": "markdown",
      "metadata": {
        "id": "gMz-33_m3OVr"
      },
      "source": [
        "# Forward auto-diff through Dual Numbers"
      ]
    },
    {
      "cell_type": "code",
      "metadata": {
        "id": "0yxN97Qqaz7O"
      },
      "source": [
        "import numpy as np"
      ],
      "execution_count": null,
      "outputs": []
    },
    {
      "cell_type": "markdown",
      "metadata": {
        "id": "uJ7sptoJ3WoN"
      },
      "source": [
        "Let us define a class `DualNumber` that represents a dual number\n",
        "\n",
        "$$\n",
        "a + b \\epsilon\n",
        "$$\n",
        "\n",
        "where $a$ is the \"real\" part and $b$ is the \"dual\" part."
      ]
    },
    {
      "cell_type": "code",
      "metadata": {
        "id": "dzKOGcA9obqm"
      },
      "source": [
        "class DualNumber:\n",
        "  def __init__(self, real, dual):\n",
        "    # dual number: 'real' + 'dual' * eps\n",
        "    self.real = real\n",
        "    self.dual = dual\n",
        "\n",
        "  def __repr__(self):\n",
        "    return repr(self.real) + ' + ' + repr(self.dual) + ' epsilon'"
      ],
      "execution_count": null,
      "outputs": []
    },
    {
      "cell_type": "markdown",
      "metadata": {
        "id": "KwUm1iNAohoq"
      },
      "source": [
        "Define the dual numbers\n",
        "\n",
        "$$\n",
        "\\begin{split}\n",
        "x &= 1 + 2 \\epsilon \\\\\n",
        "y &= 1.5 + 3.1 \\epsilon \\\\\n",
        "\\end{split}\n",
        "$$"
      ]
    },
    {
      "cell_type": "code",
      "source": [
        "x = DualNumber(1, 2)\n",
        "y = DualNumber(1.5, 3.1)\n",
        "print(x)\n",
        "print(y)\n",
        "x + y"
      ],
      "metadata": {
        "colab": {
          "base_uri": "https://localhost:8080/",
          "height": 235
        },
        "id": "VDr99gWj0Gqf",
        "outputId": "ab5712ac-ae72-400f-9e35-eb738b8ceeda"
      },
      "execution_count": null,
      "outputs": [
        {
          "output_type": "stream",
          "name": "stdout",
          "text": [
            "1 + 2 epsilon\n",
            "1.5 + 3.1 epsilon\n"
          ]
        },
        {
          "output_type": "error",
          "ename": "TypeError",
          "evalue": "ignored",
          "traceback": [
            "\u001b[0;31m---------------------------------------------------------------------------\u001b[0m",
            "\u001b[0;31mTypeError\u001b[0m                                 Traceback (most recent call last)",
            "\u001b[0;32m<ipython-input-12-57803fc96869>\u001b[0m in \u001b[0;36m<module>\u001b[0;34m\u001b[0m\n\u001b[1;32m      3\u001b[0m \u001b[0mprint\u001b[0m\u001b[0;34m(\u001b[0m\u001b[0mx\u001b[0m\u001b[0;34m)\u001b[0m\u001b[0;34m\u001b[0m\u001b[0;34m\u001b[0m\u001b[0m\n\u001b[1;32m      4\u001b[0m \u001b[0mprint\u001b[0m\u001b[0;34m(\u001b[0m\u001b[0my\u001b[0m\u001b[0;34m)\u001b[0m\u001b[0;34m\u001b[0m\u001b[0;34m\u001b[0m\u001b[0m\n\u001b[0;32m----> 5\u001b[0;31m \u001b[0mx\u001b[0m \u001b[0;34m+\u001b[0m \u001b[0my\u001b[0m\u001b[0;34m\u001b[0m\u001b[0;34m\u001b[0m\u001b[0m\n\u001b[0m",
            "\u001b[0;31mTypeError\u001b[0m: unsupported operand type(s) for +: 'DualNumber' and 'DualNumber'"
          ]
        }
      ]
    },
    {
      "cell_type": "markdown",
      "metadata": {
        "id": "DAH2eIaHod_y"
      },
      "source": [
        "Implement the operator sum `__add__` for this class."
      ]
    },
    {
      "cell_type": "code",
      "metadata": {
        "id": "JbgwZc9UzG7U"
      },
      "source": [
        "class DualNumber:\n",
        "  def __init__(self, real, dual):\n",
        "    # dual number: 'real' + 'dual' * eps\n",
        "    self.real = real\n",
        "    self.dual = dual\n",
        "\n",
        "  def __repr__(self):\n",
        "    return repr(self.real) + ' + ' + repr(self.dual) + ' epsilon'\n",
        "\n",
        "  def __add__(self, other):\n",
        "    # implement the operation \"self + other\"\n",
        "    return DualNumber(self.real + other.real, self.dual + other.dual)"
      ],
      "execution_count": null,
      "outputs": []
    },
    {
      "cell_type": "markdown",
      "metadata": {
        "id": "LgV_q13m3iD6"
      },
      "source": [
        "Define the dual numbers\n",
        "\n",
        "$$\n",
        "\\begin{split}\n",
        "x &= 1 + 2 \\epsilon \\\\\n",
        "y &= 1.5 + 3.1 \\epsilon \\\\\n",
        "\\end{split}\n",
        "$$\n",
        "\n",
        "Then, compute $z = x + y$ and display the result."
      ]
    },
    {
      "cell_type": "code",
      "source": [
        "x = DualNumber(1, 2)\n",
        "y = DualNumber(1.5, 3.1)\n",
        "z = x + y\n",
        "print(z)"
      ],
      "metadata": {
        "colab": {
          "base_uri": "https://localhost:8080/"
        },
        "id": "MEJXusCr1827",
        "outputId": "5f89d3e6-b9d3-4bf2-8e0e-218e97ece7c5"
      },
      "execution_count": null,
      "outputs": [
        {
          "output_type": "stream",
          "name": "stdout",
          "text": [
            "2.5 + 5.1 epsilon\n"
          ]
        }
      ]
    },
    {
      "cell_type": "markdown",
      "metadata": {
        "id": "krnyTgBg4If-"
      },
      "source": [
        "Define now the dual number\n",
        "\n",
        "$$\n",
        "\\begin{split}\n",
        "x &= 1 + 2 \\epsilon \\\\\n",
        "\\end{split}\n",
        "$$\n",
        "\n",
        "and try to compute $w = x + 1$. What is going on?"
      ]
    },
    {
      "cell_type": "code",
      "source": [
        "x = DualNumber(1, 2)\n",
        "w = x + 1"
      ],
      "metadata": {
        "colab": {
          "base_uri": "https://localhost:8080/",
          "height": 270
        },
        "id": "TH8ckaQI2Hk2",
        "outputId": "8369c02b-4b06-4802-f962-934a19065b7c"
      },
      "execution_count": null,
      "outputs": [
        {
          "output_type": "error",
          "ename": "AttributeError",
          "evalue": "ignored",
          "traceback": [
            "\u001b[0;31m---------------------------------------------------------------------------\u001b[0m",
            "\u001b[0;31mAttributeError\u001b[0m                            Traceback (most recent call last)",
            "\u001b[0;32m<ipython-input-15-2745f7d21471>\u001b[0m in \u001b[0;36m<module>\u001b[0;34m\u001b[0m\n\u001b[1;32m      1\u001b[0m \u001b[0mx\u001b[0m \u001b[0;34m=\u001b[0m \u001b[0mDualNumber\u001b[0m\u001b[0;34m(\u001b[0m\u001b[0;36m1\u001b[0m\u001b[0;34m,\u001b[0m \u001b[0;36m2\u001b[0m\u001b[0;34m)\u001b[0m\u001b[0;34m\u001b[0m\u001b[0;34m\u001b[0m\u001b[0m\n\u001b[0;32m----> 2\u001b[0;31m \u001b[0mw\u001b[0m \u001b[0;34m=\u001b[0m \u001b[0mx\u001b[0m \u001b[0;34m+\u001b[0m \u001b[0;36m1\u001b[0m\u001b[0;34m\u001b[0m\u001b[0;34m\u001b[0m\u001b[0m\n\u001b[0m",
            "\u001b[0;32m<ipython-input-13-b7a2dba4e0aa>\u001b[0m in \u001b[0;36m__add__\u001b[0;34m(self, other)\u001b[0m\n\u001b[1;32m     10\u001b[0m   \u001b[0;32mdef\u001b[0m \u001b[0m__add__\u001b[0m\u001b[0;34m(\u001b[0m\u001b[0mself\u001b[0m\u001b[0;34m,\u001b[0m \u001b[0mother\u001b[0m\u001b[0;34m)\u001b[0m\u001b[0;34m:\u001b[0m\u001b[0;34m\u001b[0m\u001b[0;34m\u001b[0m\u001b[0m\n\u001b[1;32m     11\u001b[0m     \u001b[0;31m# implement the operation \"self + other\"\u001b[0m\u001b[0;34m\u001b[0m\u001b[0;34m\u001b[0m\u001b[0;34m\u001b[0m\u001b[0m\n\u001b[0;32m---> 12\u001b[0;31m     \u001b[0;32mreturn\u001b[0m \u001b[0mDualNumber\u001b[0m\u001b[0;34m(\u001b[0m\u001b[0mself\u001b[0m\u001b[0;34m.\u001b[0m\u001b[0mreal\u001b[0m \u001b[0;34m+\u001b[0m \u001b[0mother\u001b[0m\u001b[0;34m.\u001b[0m\u001b[0mreal\u001b[0m\u001b[0;34m,\u001b[0m \u001b[0mself\u001b[0m\u001b[0;34m.\u001b[0m\u001b[0mdual\u001b[0m \u001b[0;34m+\u001b[0m \u001b[0mother\u001b[0m\u001b[0;34m.\u001b[0m\u001b[0mdual\u001b[0m\u001b[0;34m)\u001b[0m\u001b[0;34m\u001b[0m\u001b[0;34m\u001b[0m\u001b[0m\n\u001b[0m",
            "\u001b[0;31mAttributeError\u001b[0m: 'int' object has no attribute 'dual'"
          ]
        }
      ]
    },
    {
      "cell_type": "markdown",
      "metadata": {
        "id": "FvUatRPG4WAY"
      },
      "source": [
        "Try now to compute $w = 1 + x$ (in this specific order). What is going on this time?"
      ]
    },
    {
      "cell_type": "code",
      "source": [
        "w = 1 + x"
      ],
      "metadata": {
        "colab": {
          "base_uri": "https://localhost:8080/",
          "height": 166
        },
        "id": "5myDm7x42kNp",
        "outputId": "1caba148-cee3-4757-df4b-26a7e7df7f89"
      },
      "execution_count": null,
      "outputs": [
        {
          "output_type": "error",
          "ename": "TypeError",
          "evalue": "ignored",
          "traceback": [
            "\u001b[0;31m---------------------------------------------------------------------------\u001b[0m",
            "\u001b[0;31mTypeError\u001b[0m                                 Traceback (most recent call last)",
            "\u001b[0;32m<ipython-input-16-f7f5800fddba>\u001b[0m in \u001b[0;36m<module>\u001b[0;34m\u001b[0m\n\u001b[0;32m----> 1\u001b[0;31m \u001b[0mw\u001b[0m \u001b[0;34m=\u001b[0m \u001b[0;36m1\u001b[0m \u001b[0;34m+\u001b[0m \u001b[0mx\u001b[0m\u001b[0;34m\u001b[0m\u001b[0;34m\u001b[0m\u001b[0m\n\u001b[0m",
            "\u001b[0;31mTypeError\u001b[0m: unsupported operand type(s) for +: 'int' and 'DualNumber'"
          ]
        }
      ]
    },
    {
      "cell_type": "markdown",
      "metadata": {
        "id": "baVLjN8Y4dIA"
      },
      "source": [
        "To overcome the above inconvenient, introduce a check (inside the definition of `__add__`) on the type of `other`. Moroever, define the operator `__radd__`, besides `__add__`."
      ]
    },
    {
      "cell_type": "code",
      "metadata": {
        "id": "k1XrCZgx0B09"
      },
      "source": [
        "class DualNumber:\n",
        "  def __init__(self, real, dual):\n",
        "    # dual number: 'real' + 'dual' * eps\n",
        "    self.real = real\n",
        "    self.dual = dual\n",
        "\n",
        "  def __repr__(self):\n",
        "    return repr(self.real) + ' + ' + repr(self.dual) + ' epsilon'\n",
        "\n",
        "  def __add__(self, other):\n",
        "    # implement the operation \"self + other\"\n",
        "    if isinstance(other, DualNumber):\n",
        "      return DualNumber(self.real + other.real, self.dual + other.dual)\n",
        "    else:\n",
        "      return DualNumber(self.real + other, self.dual)\n",
        "\n",
        "  def __radd__(self, other):\n",
        "    # implement the operation \"other + self\"\n",
        "    return self.__add__(other)"
      ],
      "execution_count": null,
      "outputs": []
    },
    {
      "cell_type": "markdown",
      "metadata": {
        "id": "cpeVP2-p4u5f"
      },
      "source": [
        "Try again to compute $w = x + 1$"
      ]
    },
    {
      "cell_type": "code",
      "source": [
        "x = DualNumber(1, 2)\n",
        "w = x + 1\n",
        "print(w)"
      ],
      "metadata": {
        "colab": {
          "base_uri": "https://localhost:8080/"
        },
        "id": "VWhTC7ox4N7m",
        "outputId": "40a069d1-a262-45f7-c3b8-b6bddbdbc0ac"
      },
      "execution_count": null,
      "outputs": [
        {
          "output_type": "stream",
          "name": "stdout",
          "text": [
            "2 + 2 epsilon\n"
          ]
        }
      ]
    },
    {
      "cell_type": "markdown",
      "metadata": {
        "id": "3o7AUeYt4yXN"
      },
      "source": [
        "Try again to compute $w = 1 + x$"
      ]
    },
    {
      "cell_type": "code",
      "source": [
        "w = 1 + x\n",
        "print(w)"
      ],
      "metadata": {
        "colab": {
          "base_uri": "https://localhost:8080/"
        },
        "id": "v5eNLCOp4VPj",
        "outputId": "31fcbc77-9e49-4c21-d611-8662ddc26453"
      },
      "execution_count": null,
      "outputs": [
        {
          "output_type": "stream",
          "name": "stdout",
          "text": [
            "2 + 2 epsilon\n"
          ]
        }
      ]
    },
    {
      "cell_type": "markdown",
      "metadata": {
        "id": "2gHd4VjU40O-"
      },
      "source": [
        "Now that we have learnt how to treat the operator \"+\", let us define the full class `DualNumber`, implementing also the operators \"-\", \"*\", \"/\", \"**\"."
      ]
    },
    {
      "cell_type": "code",
      "metadata": {
        "id": "Os4HeXLoassa"
      },
      "source": [
        "class DualNumber:\n",
        "  def __init__(self, real, dual):\n",
        "    # dual number: 'real' + 'dual' * eps\n",
        "    self.real = real\n",
        "    self.dual = dual\n",
        "\n",
        "  def __add__(self, other):\n",
        "    # implement the operation \"self + other\"\n",
        "    if isinstance(other, DualNumber):\n",
        "      return DualNumber(self.real + other.real,\n",
        "                        self.dual + other.dual)\n",
        "    else:\n",
        "      return DualNumber(self.real + other, self.dual)\n",
        "\n",
        "  def __radd__(self, other):\n",
        "    # implement the operation \"other + self\"\n",
        "    return self.__add__(other)\n",
        "\n",
        "  def __sub__(self, other):\n",
        "    # implement the operation \"self - other\"\n",
        "    if isinstance(other, DualNumber):\n",
        "      return DualNumber(self.real - other.real,\n",
        "                        self.dual - other.dual)\n",
        "    else:\n",
        "      return DualNumber(self.real - other, self.dual)\n",
        "\n",
        "  def __rsub__(self, other):\n",
        "    # implement the operation \"other - self\"\n",
        "    return DualNumber(other, 0.0) - self\n",
        "\n",
        "  def __mul__(self, other):\n",
        "    # implement the operation \"self * other\"\n",
        "    if isinstance(other, DualNumber):\n",
        "      return DualNumber(self.real * other.real,\n",
        "                        self.real * other.dual + self.dual * other.real)\n",
        "    else:\n",
        "      return DualNumber(self.real * other, self.dual * other)\n",
        "\n",
        "  def __rmul__(self, other):\n",
        "    # implement the operation \"other * self\"\n",
        "    return self.__mul__(other)\n",
        "\n",
        "  def __truediv__(self, other):\n",
        "    # implement the operation \"self / other\"\n",
        "    if isinstance(other, DualNumber):\n",
        "      return DualNumber(self.real/other.real, (self.dual*other.real - self.real*other.dual)/(other.real**2))\n",
        "    else:\n",
        "      return (1/other) * self\n",
        "\n",
        "  def __rtruediv__(self, other):\n",
        "    # implement the operation \"other / self\"\n",
        "    return DualNumber(other, 0.0).__truediv__(self)\n",
        "\n",
        "  def __pow__(self, other):\n",
        "    # implement the operation \"self ** other\"\n",
        "    return DualNumber(self.real**other,\n",
        "                      self.dual * other * self.real**(other - 1))\n",
        "\n",
        "  def __repr__(self):\n",
        "    return repr(self.real) + ' + ' + repr(self.dual) + ' epsilon'\n"
      ],
      "execution_count": null,
      "outputs": []
    },
    {
      "cell_type": "markdown",
      "metadata": {
        "id": "gywkm3dK5OVe"
      },
      "source": [
        "Define the dual numbers\n",
        "\n",
        "$$\n",
        "\\begin{split}\n",
        "x &= 1 + 2 \\epsilon \\\\\n",
        "y &= 1.5 + 3.1 \\epsilon \\\\\n",
        "\\end{split}\n",
        "$$\n",
        "\n",
        "Then, compute the result of the following operations:\n",
        "- $x + y$\n",
        "- $x - y$\n",
        "- $x y$\n",
        "- $x / y$\n",
        "- $x + 1$\n",
        "- $2 x$\n",
        "- $x ^ 3$"
      ]
    },
    {
      "cell_type": "code",
      "source": [
        "x = DualNumber(1.0, 2.0)\n",
        "y = DualNumber(1.5, 3.1)\n",
        "z = x + y\n",
        "print(\"x     = %s\" % x)\n",
        "print(\"y     = %s\" % y)\n",
        "print(\"x + y = %s\" % (x + y))\n",
        "print(\"x - y = %s\" % (x - y))\n",
        "print(\"x * y = %s\" % (x * y))\n",
        "print(\"x / y = %s\" % (x / y))\n",
        "print(\"x + 1 = %s\" % (x + 1))\n",
        "print(\"2 * x = %s\" % (2 * x))\n",
        "print(\"x ^ 3 = %s\" % (x ** 3))"
      ],
      "metadata": {
        "colab": {
          "base_uri": "https://localhost:8080/"
        },
        "id": "PjCtHoCV7-uh",
        "outputId": "4c4702d6-570d-4e6e-e17d-56c0749d9002"
      },
      "execution_count": null,
      "outputs": [
        {
          "output_type": "stream",
          "name": "stdout",
          "text": [
            "x     = 1.0 + 2.0 epsilon\n",
            "y     = 1.5 + 3.1 epsilon\n",
            "x + y = 2.5 + 5.1 epsilon\n",
            "x - y = -0.5 + -1.1 epsilon\n",
            "x * y = 1.5 + 6.1 epsilon\n",
            "x / y = 0.6666666666666666 + -0.04444444444444448 epsilon\n",
            "x + 1 = 2.0 + 2.0 epsilon\n",
            "2 * x = 2.0 + 4.0 epsilon\n",
            "x ^ 3 = 1.0 + 6.0 epsilon\n"
          ]
        }
      ]
    }
  ]
}