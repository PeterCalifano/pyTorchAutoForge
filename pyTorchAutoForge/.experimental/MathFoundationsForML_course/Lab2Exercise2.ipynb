{
 "cells": [
  {
   "attachments": {},
   "cell_type": "markdown",
   "metadata": {},
   "source": [
    "# Exercises: compressed sensing \n",
    " \n",
    "\n",
    "In this exercise we will employ compressed sensing for the reconstruction of a high-dimensional solution from a sparse set of random measurements. \n",
    "\n",
    "Author: Stefano Pagani <stefano.pagani@polimi.it>.\n",
    "\n",
    "Date: 2024\n",
    "\n",
    "Course: Mathematical and numerical foundations of scientific machine learning\n"
   ]
  },
  {
   "cell_type": "code",
   "execution_count": 1,
   "metadata": {},
   "outputs": [],
   "source": [
    "# imports\n",
    "\n",
    "import numpy as np\n",
    "import matplotlib.pyplot as plt\n",
    "import cvxpy as cvx\n"
   ]
  },
  {
   "attachments": {},
   "cell_type": "markdown",
   "metadata": {},
   "source": [
    "\n",
    "Consider two different cases of reentrant activity (second one is commented)."
   ]
  },
  {
   "cell_type": "code",
   "execution_count": null,
   "metadata": {},
   "outputs": [],
   "source": [
    "n=100\n",
    "L=20\n",
    "\n",
    "x=np.arange(-L,L,2*L/n)\n",
    "y=x \n",
    "\n",
    "#print(x)\n",
    "#print(y)\n",
    "\n",
    "count_samples = 0\n",
    "\n",
    "Xd=np.zeros((len(x)**2,10*n))\n",
    "Td=np.zeros((len(x),len(x),10*n))\n",
    "for ind_random in range(10):\n",
    "    param = np.random.rand(1)\n",
    "    print(param)\n",
    "    for ind_sample in range(n):\n",
    "        count = 0\n",
    "        for ind_x in range(len(x)):\n",
    "            for ind_y in range(len(y)):\n",
    "                # case 1\n",
    "                u = np.tanh(np.sqrt(x[ind_x]**2+y[ind_y]**2) * np.cos(np.angle(x[ind_x]+y[ind_y]*(0+(1.0+param)*1j))-(0.5)*(np.sqrt(x[ind_x]**2+y[ind_y]**2))+ ind_sample/10) )                \n",
    "                # case 2\n",
    "                #u = np.tanh(np.sqrt(x[ind_x]**2+y[ind_y]**2) * np.cos(np.angle(x[ind_x]+y[ind_y]*(0+(1.0+param)*1j))-(0.1+0.9*param)*(np.sqrt(x[ind_x]**2+y[ind_y]**2))+ ind_sample/10) )\n",
    "                Xd[count,count_samples] = u\n",
    "                count += 1\n",
    "\n",
    "                Td[ind_x,ind_y,count_samples] = u\n",
    "        \n",
    "        count_samples += 1\n",
    "            "
   ]
  },
  {
   "attachments": {},
   "cell_type": "markdown",
   "metadata": {},
   "source": [
    "\n",
    "Task 1: represent some snapshot of the reentrant activity at different timesteps. What is the effect of the parameter?"
   ]
  },
  {
   "cell_type": "code",
   "execution_count": null,
   "metadata": {},
   "outputs": [],
   "source": [
    "\n",
    "# to do"
   ]
  },
  {
   "attachments": {},
   "cell_type": "markdown",
   "metadata": {},
   "source": [
    "\n",
    "Task 2: compute the SVD of the matrix and visualize the first basis functions."
   ]
  },
  {
   "cell_type": "code",
   "execution_count": null,
   "metadata": {},
   "outputs": [],
   "source": [
    "\n",
    "# [U,S,V]=\n"
   ]
  },
  {
   "cell_type": "code",
   "execution_count": null,
   "metadata": {},
   "outputs": [],
   "source": [
    "\n",
    "# to do: plot basis functions"
   ]
  },
  {
   "attachments": {},
   "cell_type": "markdown",
   "metadata": {},
   "source": [
    "\n",
    "Test set"
   ]
  },
  {
   "cell_type": "code",
   "execution_count": null,
   "metadata": {},
   "outputs": [],
   "source": [
    "\n",
    "count_samples = 0\n",
    "\n",
    "Xd_test=np.zeros((len(x)**2,5*n))\n",
    "Td_test=np.zeros((len(x),len(x),5*n))\n",
    "for ind_random in range(5):\n",
    "    param = np.random.rand(1)\n",
    "    print(param)\n",
    "    for ind_sample in range(n):\n",
    "        count = 0\n",
    "        for ind_x in range(len(x)):\n",
    "            for ind_y in range(len(y)):\n",
    "                # case 1\n",
    "                u = np.tanh(np.sqrt(x[ind_x]**2+y[ind_y]**2) * np.cos(np.angle(x[ind_x]+y[ind_y]*(0+(1.0+param)*1j))-(0.5)*(np.sqrt(x[ind_x]**2+y[ind_y]**2))+ ind_sample/10) )                \n",
    "                # case 2\n",
    "                #u = np.tanh(np.sqrt(x[ind_x]**2+y[ind_y]**2) * np.cos(np.angle(x[ind_x]+y[ind_y]*(0+(1.0+param)*1j))-(0.1+0.9*param)*(np.sqrt(x[ind_x]**2+y[ind_y]**2))+ ind_sample/10) )\n",
    "                \n",
    "                Xd_test[count,count_samples] = u\n",
    "                count += 1\n",
    "\n",
    "                Td_test[ind_x,ind_y,count_samples] = u\n",
    "        \n",
    "        count_samples += 1"
   ]
  },
  {
   "cell_type": "code",
   "execution_count": null,
   "metadata": {},
   "outputs": [],
   "source": [
    "perm = [ 50*100+7, 50*100+10, 50*100+17, 50*100+20, \n",
    "         57*100+7, 60*100+10, 67*100+17, 70*100+20,\n",
    "         57*100-7, 60*100-10, 67*100-17, 70*100-20,\n",
    "         43*100-7, 40*100-10, 33*100-17, 30*100-20,\n",
    "         43*100+7, 40*100+10, 33*100+17, 30*100+20]\n",
    "\n",
    "# alternative\n",
    "#p = 100\n",
    "#perm = np.random.choice(n*n, size=p, replace=False)\n",
    "\n",
    "\n",
    "p = len(perm)\n",
    "\n",
    "C = np.zeros( (p,n*n) )\n",
    "for i in range(p):\n",
    "    C[i,perm[i]] = 1.0\n",
    "\n"
   ]
  },
  {
   "cell_type": "code",
   "execution_count": null,
   "metadata": {},
   "outputs": [],
   "source": [
    "# data\n",
    "\n",
    "u = Xd_test[:,233]\n",
    "\n",
    "y = C @ u\n",
    "\n"
   ]
  },
  {
   "attachments": {},
   "cell_type": "markdown",
   "metadata": {},
   "source": [
    "\n",
    "Task 4: solve the reconstruction problem using compressed sensing. Consider the case where $\\Psi$ is composed by all the solutions stored in Xd and the case where $\\Psi$ is composed by the first 500 columns of U."
   ]
  },
  {
   "cell_type": "code",
   "execution_count": null,
   "metadata": {},
   "outputs": [],
   "source": [
    "\n",
    "## compressed sensing problem\n",
    "# Psi = \n",
    "\n",
    "Theta = C @ Psi                 # C * Psi\n"
   ]
  },
  {
   "cell_type": "code",
   "execution_count": null,
   "metadata": {},
   "outputs": [],
   "source": [
    "\n",
    "# solving with CVX\n",
    "\n",
    "# Create vector variables (CVXPY Variable)\n",
    "#s_c = \n",
    "# Create the constraints (Python list)\n",
    "constraints = [Theta @ s_c == y]\n",
    "# Form objective\n",
    "#obj = \n",
    "# Form and solve problem\n",
    "# prob = \n",
    "prob.solve()  # Returns the optimal value.\n",
    "print(\"status:\", prob.status)\n",
    "print(\"optimal value\", prob.value)\n",
    "print(\"optimal var\", s_c.value)\n",
    "\n",
    "# urec = "
   ]
  },
  {
   "cell_type": "code",
   "execution_count": null,
   "metadata": {},
   "outputs": [],
   "source": [
    "fig,axs = plt.subplots(1,3)\n",
    "\n",
    "\n",
    "im0 = axs[0].imshow( np.reshape(u,(n,n) ) )\n",
    "plt.colorbar(im0)\n",
    "\n",
    "im1 = axs[1].imshow( np.reshape(urec,(n,n) ) )\n",
    "plt.colorbar(im1)\n",
    "\n",
    "im2 = axs[2].imshow( np.reshape(urec-u,(n,n) ) )\n",
    "plt.colorbar(im2)\n"
   ]
  }
 ],
 "metadata": {
  "kernelspec": {
   "display_name": "teachenv",
   "language": "python",
   "name": "python3"
  },
  "language_info": {
   "codemirror_mode": {
    "name": "ipython",
    "version": 3
   },
   "file_extension": ".py",
   "mimetype": "text/x-python",
   "name": "python",
   "nbconvert_exporter": "python",
   "pygments_lexer": "ipython3",
   "version": "3.10.12"
  },
  "orig_nbformat": 4
 },
 "nbformat": 4,
 "nbformat_minor": 2
}
