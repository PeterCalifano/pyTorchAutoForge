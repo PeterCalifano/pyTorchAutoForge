{
 "cells": [
  {
   "attachments": {},
   "cell_type": "markdown",
   "metadata": {},
   "source": [
    "# Exercises: Linear dimensionality reduction \n",
    "\n",
    "\n",
    "Author: Stefano Pagani <stefano.pagani@polimi.it>.\n",
    "\n",
    "Date: 2024\n",
    "\n",
    "Course: Mathematical and numerical foundations of scientific machine learning\n",
    "\n",
    "For further details on SVD, see Chapter 1, Brunton, S. L. and Kutz, J. N., Data-Driven Science and Engineering: Machine Learning, Dynamical Systems, and Control (2nd ed.).\n"
   ]
  },
  {
   "cell_type": "code",
   "execution_count": null,
   "metadata": {},
   "outputs": [],
   "source": [
    "# imports\n",
    "\n",
    "import numpy as np\n",
    "import matplotlib.pyplot as plt\n",
    "import cvxpy as cvx\n"
   ]
  },
  {
   "attachments": {},
   "cell_type": "markdown",
   "metadata": {},
   "source": [
    "\n",
    "Consider two different cases of reentrant activity (second one is commented)."
   ]
  },
  {
   "cell_type": "code",
   "execution_count": null,
   "metadata": {},
   "outputs": [],
   "source": [
    "n=100\n",
    "L=20\n",
    "\n",
    "x=np.arange(-L,L,2*L/n)\n",
    "y=x \n",
    "\n",
    "count_samples = 0\n",
    "\n",
    "Xd=np.zeros((len(x)**2,10*n))\n",
    "Td=np.zeros((len(x),len(x),10*n))\n",
    "for ind_random in range(10):\n",
    "    param = np.random.rand(1)\n",
    "    print(param)\n",
    "    for ind_sample in range(n):\n",
    "        count = 0\n",
    "        for ind_x in range(len(x)):\n",
    "            for ind_y in range(len(y)):\n",
    "                # case 1\n",
    "                u = np.tanh(np.sqrt(x[ind_x]**2+y[ind_y]**2) * np.cos(np.angle(x[ind_x]+y[ind_y]*(0+(1.0+param)*1j))-(0.5)*(np.sqrt(x[ind_x]**2+y[ind_y]**2))+ ind_sample/10) )                \n",
    "                # case 2\n",
    "                #u = np.tanh(np.sqrt(x[ind_x]**2+y[ind_y]**2) * np.cos(np.angle(x[ind_x]+y[ind_y]*(0+(1.0+param)*1j))-(0.1+0.9*param)*(np.sqrt(x[ind_x]**2+y[ind_y]**2))+ ind_sample/10) )\n",
    "                Xd[count,count_samples] = u\n",
    "                count += 1\n",
    "\n",
    "                Td[ind_x,ind_y,count_samples] = u\n",
    "        \n",
    "        count_samples += 1\n",
    "            "
   ]
  },
  {
   "attachments": {},
   "cell_type": "markdown",
   "metadata": {},
   "source": [
    "\n",
    "Task 1: represent some snapshots of the reentrant activity at different timesteps. What is the effect of the parameter?"
   ]
  },
  {
   "cell_type": "code",
   "execution_count": null,
   "metadata": {},
   "outputs": [],
   "source": [
    "\n",
    "plt.imshow( Td[:,:,250] )"
   ]
  },
  {
   "attachments": {},
   "cell_type": "markdown",
   "metadata": {},
   "source": [
    "\n",
    "Task 2: compute the SVD of the matrix and visualize the first basis functions."
   ]
  },
  {
   "cell_type": "code",
   "execution_count": null,
   "metadata": {},
   "outputs": [],
   "source": [
    "\n",
    "[U,S,V]=np.linalg.svd(Xd)"
   ]
  },
  {
   "cell_type": "code",
   "execution_count": null,
   "metadata": {},
   "outputs": [],
   "source": [
    "\n",
    "fig,axs = plt.subplots(3,1)\n",
    "axs = axs.reshape(-1)\n",
    "\n",
    "axs[0].plot(range(1000),(S)/np.sum(S),'o')\n",
    "\n",
    "# energy captured\n",
    "axs[1].semilogy(range(1000),(S)/np.sum(S),'o')\n",
    "\n",
    "# variance explained\n",
    "axs[2].plot(range(1000),np.cumsum(S**2)/np.sum(S**2),'o')\n",
    "\n"
   ]
  },
  {
   "cell_type": "code",
   "execution_count": null,
   "metadata": {},
   "outputs": [],
   "source": [
    "plt.imshow( np.reshape(U[:,0],(n,n) ) )"
   ]
  },
  {
   "attachments": {},
   "cell_type": "markdown",
   "metadata": {},
   "source": [
    "\n",
    "Test set"
   ]
  },
  {
   "cell_type": "code",
   "execution_count": null,
   "metadata": {},
   "outputs": [],
   "source": [
    "\n",
    "count_samples = 0\n",
    "\n",
    "Xd_test=np.zeros((len(x)**2,5*n))\n",
    "Td_test=np.zeros((len(x),len(x),5*n))\n",
    "for ind_random in range(5):\n",
    "    param = np.random.rand(1)\n",
    "    print(param)\n",
    "    for ind_sample in range(n):\n",
    "        count = 0\n",
    "        for ind_x in range(len(x)):\n",
    "            for ind_y in range(len(y)):\n",
    "                # case 1\n",
    "                u = np.tanh(np.sqrt(x[ind_x]**2+y[ind_y]**2) * np.cos(np.angle(x[ind_x]+y[ind_y]*(0+(1.0+param)*1j))-(0.5)*(np.sqrt(x[ind_x]**2+y[ind_y]**2))+ ind_sample/10) )                \n",
    "                # case 2\n",
    "                #u = np.tanh(np.sqrt(x[ind_x]**2+y[ind_y]**2) * np.cos(np.angle(x[ind_x]+y[ind_y]*(0+(1.0+param)*1j))-(0.1+0.9*param)*(np.sqrt(x[ind_x]**2+y[ind_y]**2))+ ind_sample/10) )\n",
    "                \n",
    "                Xd_test[count,count_samples] = u\n",
    "                count += 1\n",
    "\n",
    "                Td_test[ind_x,ind_y,count_samples] = u\n",
    "        \n",
    "        count_samples += 1"
   ]
  },
  {
   "cell_type": "code",
   "execution_count": null,
   "metadata": {},
   "outputs": [],
   "source": [
    "\n",
    "u = Xd_test[:,55]"
   ]
  },
  {
   "attachments": {},
   "cell_type": "markdown",
   "metadata": {},
   "source": [
    "\n",
    "Task 4: solve the reconstruction problem using compressed sensing. Consider the case where $\\Psi$ is composed by all the solutions stored in Xd and the case where $\\Psi$ is composed by the first 500 columns of U."
   ]
  },
  {
   "cell_type": "code",
   "execution_count": null,
   "metadata": {},
   "outputs": [],
   "source": [
    "n_basis = 100\n",
    "\n",
    "## Linear projection\n",
    "Psi = U[:,:n_basis] \n",
    "urec = Psi @ ( Psi.T @ u )\n"
   ]
  },
  {
   "cell_type": "code",
   "execution_count": null,
   "metadata": {},
   "outputs": [],
   "source": [
    "fig,axs = plt.subplots(1,3)\n",
    "\n",
    "\n",
    "im0 = axs[0].imshow( np.reshape(u,(n,n) ) )\n",
    "plt.colorbar(im0)\n",
    "\n",
    "im1 = axs[1].imshow( np.reshape(urec,(n,n) ) )\n",
    "plt.colorbar(im1)\n",
    "\n",
    "im2 = axs[2].imshow( np.reshape(urec-u,(n,n) ) )\n",
    "plt.colorbar(im2)\n"
   ]
  },
  {
   "cell_type": "markdown",
   "metadata": {},
   "source": [
    "Task 6: represent the values of the coefficients obtained by projecting the first 100 test snapshots onto the low dimensional subspace."
   ]
  },
  {
   "cell_type": "code",
   "execution_count": null,
   "metadata": {},
   "outputs": [],
   "source": [
    "# coefficients\n",
    "u_N = ( Psi.T @ Xd_test[:,:n] )\n",
    "\n",
    "for i_N in range(n_basis):\n",
    "    plt.plot(np.arange(0,n),u_N[i_N])"
   ]
  }
 ],
 "metadata": {
  "kernelspec": {
   "display_name": "teachenv",
   "language": "python",
   "name": "python3"
  },
  "language_info": {
   "codemirror_mode": {
    "name": "ipython",
    "version": 3
   },
   "file_extension": ".py",
   "mimetype": "text/x-python",
   "name": "python",
   "nbconvert_exporter": "python",
   "pygments_lexer": "ipython3",
   "version": "3.9.13"
  },
  "orig_nbformat": 4
 },
 "nbformat": 4,
 "nbformat_minor": 2
}
